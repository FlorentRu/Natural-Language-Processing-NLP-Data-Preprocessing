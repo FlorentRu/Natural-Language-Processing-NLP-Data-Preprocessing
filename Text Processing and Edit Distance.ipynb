{
 "cells": [
  {
   "cell_type": "markdown",
   "id": "155a3872",
   "metadata": {},
   "source": [
    "## M1 Assignment: Text Processing and Edit Distance"
   ]
  },
  {
   "cell_type": "code",
   "execution_count": 61,
   "id": "3a74f559",
   "metadata": {},
   "outputs": [
    {
     "name": "stdout",
     "output_type": "stream",
     "text": [
      "id             int64\n",
      "created_at    object\n",
      "text          object\n",
      "dtype: object\n",
      "0       b'And so the robots spared humanity ... https:...\n",
      "1       b\"@ForIn2020 @waltmossberg @mims @defcon_5 Exa...\n",
      "2           b'@waltmossberg @mims @defcon_5 Et tu, Walt?'\n",
      "3                     b'Stormy weather in Shortville ...'\n",
      "4       b\"@DaveLeeBBC @verge Coal is dying due to nat ...\n",
      "                              ...                        \n",
      "2814                 b'That was a total non sequitur btw'\n",
      "2815    b'Great Voltaire quote, arguably better than T...\n",
      "2816    b'I made the volume on the Model S http://t.co...\n",
      "2817    b\"Went to Iceland on Sat to ride bumper cars o...\n",
      "2818    b'Please ignore prior tweets, as that was some...\n",
      "Name: text, Length: 2819, dtype: object\n"
     ]
    }
   ],
   "source": [
    "#extract the tweets\n",
    "import pandas as pd\n",
    "\n",
    "tweets = pd.read_csv('elonmusk_tweets.csv') #import file\n",
    "print(tweets.dtypes) #print data types\n",
    "print(tweets.text) #show tweets from file\n",
    "df = pd.DataFrame(tweets)"
   ]
  },
  {
   "cell_type": "code",
   "execution_count": 11,
   "id": "ade40511",
   "metadata": {},
   "outputs": [
    {
     "name": "stdout",
     "output_type": "stream",
     "text": [
      "\u001b[92mb'I made the volume on the Model S http://t.co/wMCnT53M go to 11.  Now I just need to work in a miniature Stonehenge...'\n"
     ]
    }
   ],
   "source": [
    "print('\\033[92m' + df['text'][2816])"
   ]
  },
  {
   "cell_type": "markdown",
   "id": "7b3b3293",
   "metadata": {},
   "source": [
    "### Remove hyperlinks, hashtags, and beginngin of strings"
   ]
  },
  {
   "cell_type": "code",
   "execution_count": 13,
   "id": "0341005a",
   "metadata": {},
   "outputs": [
    {
     "name": "stdout",
     "output_type": "stream",
     "text": [
      "\u001b[92mI made the volume on the Model S  go to 11.  Now I just need to work in a miniature Stonehenge...'\n"
     ]
    },
    {
     "name": "stderr",
     "output_type": "stream",
     "text": [
      "C:\\Users\\flore\\AppData\\Local\\Temp\\ipykernel_11496\\2519095691.py:5: SettingWithCopyWarning: \n",
      "A value is trying to be set on a copy of a slice from a DataFrame\n",
      "\n",
      "See the caveats in the documentation: https://pandas.pydata.org/pandas-docs/stable/user_guide/indexing.html#returning-a-view-versus-a-copy\n",
      "  df['text'][2816] = re.sub(regex_remove_hyperlinks, '', df['text'][2816])\n",
      "C:\\Users\\flore\\AppData\\Local\\Temp\\ipykernel_11496\\2519095691.py:10: SettingWithCopyWarning: \n",
      "A value is trying to be set on a copy of a slice from a DataFrame\n",
      "\n",
      "See the caveats in the documentation: https://pandas.pydata.org/pandas-docs/stable/user_guide/indexing.html#returning-a-view-versus-a-copy\n",
      "  df['text'][2816] = re.sub(regex_hash, '', df['text'][2816])\n",
      "C:\\Users\\flore\\AppData\\Local\\Temp\\ipykernel_11496\\2519095691.py:15: SettingWithCopyWarning: \n",
      "A value is trying to be set on a copy of a slice from a DataFrame\n",
      "\n",
      "See the caveats in the documentation: https://pandas.pydata.org/pandas-docs/stable/user_guide/indexing.html#returning-a-view-versus-a-copy\n",
      "  df['text'][2816] = re.sub(regex_string_beginning, '', df['text'][2816])\n"
     ]
    }
   ],
   "source": [
    "### START CODE HERE (REPLACE INSTANCES OF 'None' with your code) ###\n",
    "#create regex for hyperlinks\n",
    "import re\n",
    "regex_remove_hyperlinks = r'https?://\\S+|www\\.\\S+'\n",
    "df['text'][2816] = re.sub(regex_remove_hyperlinks, '', df['text'][2816])\n",
    "\n",
    "# remove hashtags\n",
    "# only removing the hash # sign from the word\n",
    "regex_hash = r'#'\n",
    "df['text'][2816] = re.sub(regex_hash, '', df['text'][2816])\n",
    "\n",
    "\n",
    "# remove 'b from each string\n",
    "regex_string_beginning = r\"^b['\\\"]\"\n",
    "df['text'][2816] = re.sub(regex_string_beginning, '', df['text'][2816])\n",
    "\n",
    "### END CODE HERE ###\n",
    "\n",
    "\n",
    "# Print the modified tweet\n",
    "print('\\033[92m' + df['text'][2816])"
   ]
  },
  {
   "cell_type": "markdown",
   "id": "4656f1ab",
   "metadata": {},
   "source": [
    "## Using NLTK Libraries"
   ]
  },
  {
   "cell_type": "code",
   "execution_count": 14,
   "id": "32d18864",
   "metadata": {},
   "outputs": [],
   "source": [
    "import nltk                                # Python library for NLP\n",
    "import re                                  # library for regular expression operations\n",
    "import string                              # for string operations\n",
    "\n",
    "from nltk.corpus import stopwords          # module for stop words that come with NLTK\n",
    "from nltk.stem import PorterStemmer        # module for stemming\n",
    "from nltk.tokenize import TweetTokenizer   # module for tokenizing strings"
   ]
  },
  {
   "cell_type": "code",
   "execution_count": 15,
   "id": "5aff475a",
   "metadata": {},
   "outputs": [
    {
     "name": "stderr",
     "output_type": "stream",
     "text": [
      "[nltk_data] Downloading package stopwords to\n",
      "[nltk_data]     C:\\Users\\flore\\AppData\\Roaming\\nltk_data...\n",
      "[nltk_data]   Package stopwords is already up-to-date!\n"
     ]
    },
    {
     "data": {
      "text/plain": [
       "True"
      ]
     },
     "execution_count": 15,
     "metadata": {},
     "output_type": "execute_result"
    }
   ],
   "source": [
    "# download the stopwords from NLTK\n",
    "nltk.download('stopwords')"
   ]
  },
  {
   "cell_type": "markdown",
   "id": "af4af02e",
   "metadata": {},
   "source": [
    "### Tokenize the string"
   ]
  },
  {
   "cell_type": "code",
   "execution_count": 16,
   "id": "924cd4c6",
   "metadata": {},
   "outputs": [
    {
     "name": "stdout",
     "output_type": "stream",
     "text": [
      "['i', 'made', 'the', 'volume', 'on', 'the', 'model', 's', 'go', 'to', '11', '.', 'now', 'i', 'just', 'need', 'to', 'work', 'in', 'a', 'miniature', 'stonehenge', '...', \"'\"]\n"
     ]
    }
   ],
   "source": [
    "# instantiate tokenizer class\n",
    "tokenizer = TweetTokenizer(preserve_case=False, strip_handles=True,\n",
    "                               reduce_len=True)\n",
    "\n",
    "# tokenize tweets\n",
    "tokenized_tweet = tokenizer.tokenize(str(df['text'][2816]))\n",
    "\n",
    "\n",
    "print(tokenized_tweet)"
   ]
  },
  {
   "cell_type": "markdown",
   "id": "f8f7b801",
   "metadata": {},
   "source": [
    "### Remove stop words and punctuations"
   ]
  },
  {
   "cell_type": "code",
   "execution_count": 17,
   "id": "ea04a169",
   "metadata": {},
   "outputs": [
    {
     "name": "stdout",
     "output_type": "stream",
     "text": [
      "Stop words\n",
      "\n",
      "['i', 'me', 'my', 'myself', 'we', 'our', 'ours', 'ourselves', 'you', \"you're\", \"you've\", \"you'll\", \"you'd\", 'your', 'yours', 'yourself', 'yourselves', 'he', 'him', 'his', 'himself', 'she', \"she's\", 'her', 'hers', 'herself', 'it', \"it's\", 'its', 'itself', 'they', 'them', 'their', 'theirs', 'themselves', 'what', 'which', 'who', 'whom', 'this', 'that', \"that'll\", 'these', 'those', 'am', 'is', 'are', 'was', 'were', 'be', 'been', 'being', 'have', 'has', 'had', 'having', 'do', 'does', 'did', 'doing', 'a', 'an', 'the', 'and', 'but', 'if', 'or', 'because', 'as', 'until', 'while', 'of', 'at', 'by', 'for', 'with', 'about', 'against', 'between', 'into', 'through', 'during', 'before', 'after', 'above', 'below', 'to', 'from', 'up', 'down', 'in', 'out', 'on', 'off', 'over', 'under', 'again', 'further', 'then', 'once', 'here', 'there', 'when', 'where', 'why', 'how', 'all', 'any', 'both', 'each', 'few', 'more', 'most', 'other', 'some', 'such', 'no', 'nor', 'not', 'only', 'own', 'same', 'so', 'than', 'too', 'very', 's', 't', 'can', 'will', 'just', 'don', \"don't\", 'should', \"should've\", 'now', 'd', 'll', 'm', 'o', 're', 've', 'y', 'ain', 'aren', \"aren't\", 'couldn', \"couldn't\", 'didn', \"didn't\", 'doesn', \"doesn't\", 'hadn', \"hadn't\", 'hasn', \"hasn't\", 'haven', \"haven't\", 'isn', \"isn't\", 'ma', 'mightn', \"mightn't\", 'mustn', \"mustn't\", 'needn', \"needn't\", 'shan', \"shan't\", 'shouldn', \"shouldn't\", 'wasn', \"wasn't\", 'weren', \"weren't\", 'won', \"won't\", 'wouldn', \"wouldn't\"]\n",
      "\n",
      "Punctuation\n",
      "\n",
      "!\"#$%&'()*+,-./:;<=>?@[\\]^_`{|}~\n"
     ]
    }
   ],
   "source": [
    "#Import the english stop words list from NLTK\n",
    "stopwords_english = stopwords.words('english') \n",
    "\n",
    "print('Stop words\\n')\n",
    "print(stopwords_english)\n",
    "\n",
    "print('\\nPunctuation\\n')\n",
    "print(string.punctuation)"
   ]
  },
  {
   "cell_type": "code",
   "execution_count": 18,
   "id": "ffc0a305",
   "metadata": {},
   "outputs": [
    {
     "name": "stdout",
     "output_type": "stream",
     "text": [
      "removed stop words and punctuation:\n",
      "['made', 'volume', 'model', 'go', '11', 'need', 'work', 'miniature', 'stonehenge', '...']\n"
     ]
    }
   ],
   "source": [
    "df2=df\n",
    "tweets_clean = []\n",
    "\n",
    "for word in tokenized_tweet: # Go through every word in your tokens list\n",
    "    if (word not in stopwords_english and  # remove stopwords\n",
    "        word not in string.punctuation):  # remove punctuation\n",
    "        tweets_clean.append(word)\n",
    "\n",
    "print('removed stop words and punctuation:')\n",
    "print(tweets_clean)"
   ]
  },
  {
   "cell_type": "code",
   "execution_count": 19,
   "id": "dc876002",
   "metadata": {},
   "outputs": [
    {
     "name": "stdout",
     "output_type": "stream",
     "text": [
      "['made', 'volume', 'model', 'go', '11', 'need', 'work', 'miniature', 'stonehenge', '...', 'i', 'made', 'the', 'volum', 'on', 'the', 'model', 's', 'go', 'to', '11', '.', 'now', 'i', 'just', 'need', 'to', 'work', 'in', 'a', 'miniatur', 'stoneheng', '...', \"'\"]\n"
     ]
    }
   ],
   "source": [
    "import nltk\n",
    "from nltk.stem import PorterStemmer\n",
    "\n",
    "stemmer = PorterStemmer()\n",
    "for word in tokenized_tweet:\n",
    "    stem_word = stemmer.stem(word)  \n",
    "    tweets_clean.append(stem_word)\n",
    "print(tweets_clean)"
   ]
  },
  {
   "cell_type": "markdown",
   "id": "d7077670",
   "metadata": {},
   "source": [
    "- Write a function called preprocess_tweet().\n",
    "\n",
    "- Then, use this to iterate through the dataframe and preprocess each tweet into a new column.\n",
    "\n",
    "- Print your results."
   ]
  },
  {
   "cell_type": "markdown",
   "id": "d46f39d7",
   "metadata": {},
   "source": [
    "### preprocess_tweet()"
   ]
  },
  {
   "cell_type": "code",
   "execution_count": 52,
   "id": "2c89b000",
   "metadata": {},
   "outputs": [],
   "source": [
    "import pandas as pd\n",
    "import re\n",
    "\n",
    "def preprocess_tweet(tweet):\n",
    "    regex_remove_hyperlinks = r'https?://\\S+|www\\.\\S+'\n",
    "    regex_hash = r'#'\n",
    "    regex_string_beginning = r\"^b['\\\"]\"\n",
    "    tweets_clean = re.sub(regex_remove_hyperlinks, '', tweet)\n",
    "    tweets_clean = re.sub(regex_hash, '', tweet)\n",
    "    tweets_clean = re.sub(regex_string_beginning, '', tweet)\n",
    "    return tweets_clean"
   ]
  },
  {
   "cell_type": "markdown",
   "id": "880e8ba4",
   "metadata": {},
   "source": [
    "Use the function to iterate through the original dataframe 'df' and preprocess each tweet into a new column"
   ]
  },
  {
   "cell_type": "code",
   "execution_count": 65,
   "id": "1c301902",
   "metadata": {},
   "outputs": [
    {
     "data": {
      "text/html": [
       "<div>\n",
       "<style scoped>\n",
       "    .dataframe tbody tr th:only-of-type {\n",
       "        vertical-align: middle;\n",
       "    }\n",
       "\n",
       "    .dataframe tbody tr th {\n",
       "        vertical-align: top;\n",
       "    }\n",
       "\n",
       "    .dataframe thead th {\n",
       "        text-align: right;\n",
       "    }\n",
       "</style>\n",
       "<table border=\"1\" class=\"dataframe\">\n",
       "  <thead>\n",
       "    <tr style=\"text-align: right;\">\n",
       "      <th></th>\n",
       "      <th>id</th>\n",
       "      <th>created_at</th>\n",
       "      <th>text</th>\n",
       "      <th>preprocessed_text</th>\n",
       "    </tr>\n",
       "  </thead>\n",
       "  <tbody>\n",
       "    <tr>\n",
       "      <th>0</th>\n",
       "      <td>849636868052275200</td>\n",
       "      <td>2017-04-05 14:56:29</td>\n",
       "      <td>b'And so the robots spared humanity ... https:...</td>\n",
       "      <td>'And so the robots spared humanity ...</td>\n",
       "    </tr>\n",
       "    <tr>\n",
       "      <th>1</th>\n",
       "      <td>848988730585096192</td>\n",
       "      <td>2017-04-03 20:01:01</td>\n",
       "      <td>b\"@ForIn2020 @waltmossberg @mims @defcon_5 Exa...</td>\n",
       "      <td>\"ForIn2020 waltmossberg mims defcon_5 Exactly....</td>\n",
       "    </tr>\n",
       "    <tr>\n",
       "      <th>2</th>\n",
       "      <td>848943072423497728</td>\n",
       "      <td>2017-04-03 16:59:35</td>\n",
       "      <td>b'@waltmossberg @mims @defcon_5 Et tu, Walt?'</td>\n",
       "      <td>'waltmossberg mims defcon_5 Et tu, Walt?'</td>\n",
       "    </tr>\n",
       "    <tr>\n",
       "      <th>3</th>\n",
       "      <td>848935705057280001</td>\n",
       "      <td>2017-04-03 16:30:19</td>\n",
       "      <td>b'Stormy weather in Shortville ...'</td>\n",
       "      <td>'Stormy weather in Shortville ...'</td>\n",
       "    </tr>\n",
       "    <tr>\n",
       "      <th>4</th>\n",
       "      <td>848416049573658624</td>\n",
       "      <td>2017-04-02 06:05:23</td>\n",
       "      <td>b\"@DaveLeeBBC @verge Coal is dying due to nat ...</td>\n",
       "      <td>\"DaveLeeBBC verge Coal is dying due to nat gas...</td>\n",
       "    </tr>\n",
       "    <tr>\n",
       "      <th>...</th>\n",
       "      <td>...</td>\n",
       "      <td>...</td>\n",
       "      <td>...</td>\n",
       "      <td>...</td>\n",
       "    </tr>\n",
       "    <tr>\n",
       "      <th>2814</th>\n",
       "      <td>142881284019060736</td>\n",
       "      <td>2011-12-03 08:22:07</td>\n",
       "      <td>b'That was a total non sequitur btw'</td>\n",
       "      <td>'That was a total non sequitur btw'</td>\n",
       "    </tr>\n",
       "    <tr>\n",
       "      <th>2815</th>\n",
       "      <td>142880871391838208</td>\n",
       "      <td>2011-12-03 08:20:28</td>\n",
       "      <td>b'Great Voltaire quote, arguably better than T...</td>\n",
       "      <td>'Great Voltaire quote, arguably better than Tw...</td>\n",
       "    </tr>\n",
       "    <tr>\n",
       "      <th>2816</th>\n",
       "      <td>142188458125963264</td>\n",
       "      <td>2011-12-01 10:29:04</td>\n",
       "      <td>b'I made the volume on the Model S http://t.co...</td>\n",
       "      <td>'I made the volume on the Model S  go to 11.  ...</td>\n",
       "    </tr>\n",
       "    <tr>\n",
       "      <th>2817</th>\n",
       "      <td>142179928203460608</td>\n",
       "      <td>2011-12-01 09:55:11</td>\n",
       "      <td>b\"Went to Iceland on Sat to ride bumper cars o...</td>\n",
       "      <td>\"Went to Iceland on Sat to ride bumper cars on...</td>\n",
       "    </tr>\n",
       "    <tr>\n",
       "      <th>2818</th>\n",
       "      <td>15434727182</td>\n",
       "      <td>2010-06-04 18:31:57</td>\n",
       "      <td>b'Please ignore prior tweets, as that was some...</td>\n",
       "      <td>'Please ignore prior tweets, as that was someo...</td>\n",
       "    </tr>\n",
       "  </tbody>\n",
       "</table>\n",
       "<p>2819 rows × 4 columns</p>\n",
       "</div>"
      ],
      "text/plain": [
       "                      id           created_at  \\\n",
       "0     849636868052275200  2017-04-05 14:56:29   \n",
       "1     848988730585096192  2017-04-03 20:01:01   \n",
       "2     848943072423497728  2017-04-03 16:59:35   \n",
       "3     848935705057280001  2017-04-03 16:30:19   \n",
       "4     848416049573658624  2017-04-02 06:05:23   \n",
       "...                  ...                  ...   \n",
       "2814  142881284019060736  2011-12-03 08:22:07   \n",
       "2815  142880871391838208  2011-12-03 08:20:28   \n",
       "2816  142188458125963264  2011-12-01 10:29:04   \n",
       "2817  142179928203460608  2011-12-01 09:55:11   \n",
       "2818         15434727182  2010-06-04 18:31:57   \n",
       "\n",
       "                                                   text  \\\n",
       "0     b'And so the robots spared humanity ... https:...   \n",
       "1     b\"@ForIn2020 @waltmossberg @mims @defcon_5 Exa...   \n",
       "2         b'@waltmossberg @mims @defcon_5 Et tu, Walt?'   \n",
       "3                   b'Stormy weather in Shortville ...'   \n",
       "4     b\"@DaveLeeBBC @verge Coal is dying due to nat ...   \n",
       "...                                                 ...   \n",
       "2814               b'That was a total non sequitur btw'   \n",
       "2815  b'Great Voltaire quote, arguably better than T...   \n",
       "2816  b'I made the volume on the Model S http://t.co...   \n",
       "2817  b\"Went to Iceland on Sat to ride bumper cars o...   \n",
       "2818  b'Please ignore prior tweets, as that was some...   \n",
       "\n",
       "                                      preprocessed_text  \n",
       "0                'And so the robots spared humanity ...  \n",
       "1     \"ForIn2020 waltmossberg mims defcon_5 Exactly....  \n",
       "2             'waltmossberg mims defcon_5 Et tu, Walt?'  \n",
       "3                    'Stormy weather in Shortville ...'  \n",
       "4     \"DaveLeeBBC verge Coal is dying due to nat gas...  \n",
       "...                                                 ...  \n",
       "2814                'That was a total non sequitur btw'  \n",
       "2815  'Great Voltaire quote, arguably better than Tw...  \n",
       "2816  'I made the volume on the Model S  go to 11.  ...  \n",
       "2817  \"Went to Iceland on Sat to ride bumper cars on...  \n",
       "2818  'Please ignore prior tweets, as that was someo...  \n",
       "\n",
       "[2819 rows x 4 columns]"
      ]
     },
     "metadata": {},
     "output_type": "display_data"
    }
   ],
   "source": [
    "df['preprocessed_text'] = df['text'].apply(preprocess_tweet)\n",
    "display(df)"
   ]
  },
  {
   "cell_type": "markdown",
   "id": "d30ae80e",
   "metadata": {},
   "source": [
    "Create your own simple Levensthein distance function. Then return the results of the distance between two words: stemming and lemmatization."
   ]
  },
  {
   "cell_type": "code",
   "execution_count": 74,
   "id": "8edb0c1f",
   "metadata": {},
   "outputs": [],
   "source": [
    "def leven_dist(string1, string2):\n",
    "    '''\n",
    "    input: \n",
    "        string1 = the first word in your formula\n",
    "        string2 = the second word in your formula\n",
    "    output: \n",
    "        levenschtein edit distance\n",
    "    \n",
    "    '''\n",
    "    #if min(i,j) =/= 0 \n",
    "    if not string1:\n",
    "        return len(string2)\n",
    "    if not string2:\n",
    "        return len(string1)\n",
    "    \n",
    "    if string1[0] == string2[0]:\n",
    "        cost = 0\n",
    "    else:\n",
    "        cost = 1\n",
    "\n",
    "### START CODE HERE (REPLACE INSTANCES OF 'None' with your code) ###\n",
    "    #because min(i,j) =/= 0 then we min(i,j)\n",
    "    \n",
    "    return min(\n",
    "        \n",
    "        #part I. calculate the numerical position of letter i-1, j and add 1\n",
    "        leven_dist(string1[1:], string2) + 1,\n",
    "        \n",
    "        #part II: calculate the numerical position of letter i, j-1 and add 1\n",
    "        leven_dist(string1, string2[1:]) + 1,\n",
    "        \n",
    "        # part III: if position i-1, j-1 are not the same letter, then add 1\n",
    "        leven_dist(string1[1:], string2[1:]) + cost\n",
    "    )\n",
    "\n",
    "### END CODE HERE ###\n",
    "\n",
    "\n",
    "\n",
    "#now run your results\n",
    "\n",
    "# Test the function\n",
    "string1 = 'stemming'\n",
    "string2 = 'lemmatization'\n",
    "\n",
    "distance = leven_dist(word1, word2)"
   ]
  },
  {
   "cell_type": "markdown",
   "id": "7e7c71d6",
   "metadata": {},
   "source": [
    "### Expected output:"
   ]
  },
  {
   "cell_type": "code",
   "execution_count": 75,
   "id": "be1fcecf",
   "metadata": {},
   "outputs": [
    {
     "name": "stdout",
     "output_type": "stream",
     "text": [
      "Your Levensthein Distance is:  10\n"
     ]
    }
   ],
   "source": [
    "print(\"Your Levensthein Distance is: \",leven_dist(string1,string2))"
   ]
  }
 ],
 "metadata": {
  "kernelspec": {
   "display_name": "Python 3 (ipykernel)",
   "language": "python",
   "name": "python3"
  },
  "language_info": {
   "codemirror_mode": {
    "name": "ipython",
    "version": 3
   },
   "file_extension": ".py",
   "mimetype": "text/x-python",
   "name": "python",
   "nbconvert_exporter": "python",
   "pygments_lexer": "ipython3",
   "version": "3.11.5"
  }
 },
 "nbformat": 4,
 "nbformat_minor": 5
}
